{
 "cells": [
  {
   "cell_type": "code",
   "execution_count": 2,
   "metadata": {},
   "outputs": [],
   "source": [
    "from notion import *\n",
    "from summarize import *\n",
    "\n",
    "with open('notion_integration_token.key') as f:\n",
    "    integration_token = f.read()\n",
    "\n",
    "root_page_id = '4211a9d9d3104a2c98df6d28c91e7216'"
   ]
  },
  {
   "cell_type": "code",
   "execution_count": 7,
   "metadata": {},
   "outputs": [],
   "source": [
    "with open('sample_text.txt') as f:\n",
    "    sample_text = f.read()\n",
    "\n",
    "agent = SummarizeAgent()\n",
    "page = agent.process_text(sample_text)\n",
    "if page['folder'] == agent.folders[0]:\n",
    "    create_education_page(integration_token, page['title'], page['content'])\n",
    "elif page['folder'] == agent.folders[1]:\n",
    "    create_startup_page(integration_token, page['title'], page['content'])\n",
    "elif page['folder'] == agent.folders[2]:\n",
    "    create_research_page(integration_token, page['title'], page['content'])"
   ]
  }
 ],
 "metadata": {
  "kernelspec": {
   "display_name": "bytesnap",
   "language": "python",
   "name": "python3"
  },
  "language_info": {
   "codemirror_mode": {
    "name": "ipython",
    "version": 3
   },
   "file_extension": ".py",
   "mimetype": "text/x-python",
   "name": "python",
   "nbconvert_exporter": "python",
   "pygments_lexer": "ipython3",
   "version": "3.12.3"
  }
 },
 "nbformat": 4,
 "nbformat_minor": 2
}
