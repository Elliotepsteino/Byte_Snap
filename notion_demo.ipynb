{
 "cells": [
  {
   "cell_type": "code",
   "execution_count": 1,
   "metadata": {},
   "outputs": [],
   "source": [
    "from notion import *\n",
    "\n",
    "integration_token = 'secret_ljnHttaIUZpHICm17JXhQmKc3kImhirneaiowBZWcqB'\n",
    "root_page_id = '4211a9d9d3104a2c98df6d28c91e7216'"
   ]
  },
  {
   "cell_type": "markdown",
   "metadata": {},
   "source": [
    "## Creating a new page in the category classes"
   ]
  },
  {
   "cell_type": "code",
   "execution_count": 3,
   "metadata": {},
   "outputs": [],
   "source": [
    "new_page_response = create_classes_page(\n",
    "    integration_token,\n",
    "    title=\"CS 336\",\n",
    "    content=\"It's all about *efficiency*\"\n",
    ")"
   ]
  },
  {
   "cell_type": "markdown",
   "metadata": {},
   "source": [
    "## Creating a new category page"
   ]
  },
  {
   "cell_type": "code",
   "execution_count": 2,
   "metadata": {},
   "outputs": [],
   "source": [
    "integration_token = 'secret_ljnHttaIUZpHICm17JXhQmKc3kImhirneaiowBZWcqB'\n",
    "root_page_id = '4211a9d9d3104a2c98df6d28c91e7216'\n",
    "\n",
    "new_category_page_response = create_notion_page(\n",
    "    integration_token,\n",
    "    root_page_id,\n",
    "    title=\"A fourth category\",\n",
    "    content=\"\"\n",
    ")"
   ]
  },
  {
   "cell_type": "code",
   "execution_count": null,
   "metadata": {},
   "outputs": [],
   "source": []
  },
  {
   "cell_type": "code",
   "execution_count": 3,
   "metadata": {},
   "outputs": [
    {
     "data": {
      "text/plain": [
       "{'object': 'page',\n",
       " 'id': '2fafe114-731e-44f7-99a3-7f8c48f87e20',\n",
       " 'created_time': '2024-05-05T01:41:00.000Z',\n",
       " 'last_edited_time': '2024-05-05T01:41:00.000Z',\n",
       " 'created_by': {'object': 'user',\n",
       "  'id': 'e928053c-ab02-40a0-a43c-adfe21827cae'},\n",
       " 'last_edited_by': {'object': 'user',\n",
       "  'id': 'e928053c-ab02-40a0-a43c-adfe21827cae'},\n",
       " 'cover': None,\n",
       " 'icon': None,\n",
       " 'parent': {'type': 'page_id',\n",
       "  'page_id': '4211a9d9-d310-4a2c-98df-6d28c91e7216'},\n",
       " 'archived': False,\n",
       " 'in_trash': False,\n",
       " 'properties': {'title': {'id': 'title',\n",
       "   'type': 'title',\n",
       "   'title': [{'type': 'text',\n",
       "     'text': {'content': 'A fourth category', 'link': None},\n",
       "     'annotations': {'bold': False,\n",
       "      'italic': False,\n",
       "      'strikethrough': False,\n",
       "      'underline': False,\n",
       "      'code': False,\n",
       "      'color': 'default'},\n",
       "     'plain_text': 'A fourth category',\n",
       "     'href': None}]}},\n",
       " 'url': 'https://www.notion.so/A-fourth-category-2fafe114731e44f799a37f8c48f87e20',\n",
       " 'public_url': None,\n",
       " 'request_id': '38acfd9f-89e9-4567-a120-da64e244176a'}"
      ]
     },
     "execution_count": 3,
     "metadata": {},
     "output_type": "execute_result"
    }
   ],
   "source": [
    "new_category_page_response"
   ]
  }
 ],
 "metadata": {
  "kernelspec": {
   "display_name": "bytesnap",
   "language": "python",
   "name": "python3"
  },
  "language_info": {
   "codemirror_mode": {
    "name": "ipython",
    "version": 3
   },
   "file_extension": ".py",
   "mimetype": "text/x-python",
   "name": "python",
   "nbconvert_exporter": "python",
   "pygments_lexer": "ipython3",
   "version": "3.12.3"
  }
 },
 "nbformat": 4,
 "nbformat_minor": 2
}
